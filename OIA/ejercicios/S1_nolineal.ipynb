{
 "cells": [
  {
   "cell_type": "markdown",
   "id": "d2dafcbb",
   "metadata": {},
   "source": [
    "### Regresión mediante perceptrón multicapa (MLP) de una función no lineal"
   ]
  },
  {
   "cell_type": "code",
   "execution_count": null,
   "id": "f7ae5712",
   "metadata": {},
   "outputs": [],
   "source": [
    "# Importaciones\n",
    "import numpy as np\n",
    "import matplotlib.pyplot as plt"
   ]
  },
  {
   "cell_type": "code",
   "execution_count": null,
   "id": "705d4f4d",
   "metadata": {},
   "outputs": [],
   "source": [
    "# Generar datos para la función no lineal\n",
    "x = np.linspace(0, 4*np.pi, 500)\n",
    "y = (x/2) - np.sin(x)\n",
    "\n",
    "plt.plot(x, y)"
   ]
  },
  {
   "cell_type": "markdown",
   "id": "c30bf2ea",
   "metadata": {},
   "source": [
    "#### Paso 0: Escoger tipo de modelo: MLP de regresión"
   ]
  },
  {
   "cell_type": "code",
   "execution_count": null,
   "id": "3aa96913",
   "metadata": {},
   "outputs": [],
   "source": [
    "# Preparar modelo MLP de regresión\n",
    "# Capas internas con 50, 50, 20 y 10 neuronas\n",
    "from sklearn.neural_network import MLPRegressor\n",
    "model = MLPRegressor(activation='relu',\n",
    "                     hidden_layer_sizes=(50, 50, 20, 10),\n",
    "                     alpha=1.0e-6,\n",
    "                     random_state=20,\n",
    "                     max_iter=500,\n",
    "                     early_stopping=False)"
   ]
  },
  {
   "cell_type": "markdown",
   "id": "b4f7fc4a",
   "metadata": {},
   "source": [
    "#### Paso 1: Entrenamiento"
   ]
  },
  {
   "cell_type": "code",
   "execution_count": null,
   "id": "b11dbf56",
   "metadata": {},
   "outputs": [],
   "source": [
    "# Ajustar modelo\n",
    "model.fit(x[:, np.newaxis], y)"
   ]
  },
  {
   "cell_type": "markdown",
   "id": "bcd2b421",
   "metadata": {},
   "source": [
    "#### Paso 2: Inferencia"
   ]
  },
  {
   "cell_type": "code",
   "execution_count": null,
   "id": "efde42f0",
   "metadata": {},
   "outputs": [],
   "source": [
    "# Realizar una predicción (\"inferencia\")\n",
    "xtest = np.linspace(0,4*np.pi,20)\n",
    "yreal = (xtest/2) - np.sin(xtest)\n",
    "ypred = model.predict(xtest.reshape(-1,1))\n",
    "\n",
    "# Visualizar el ajuste\n",
    "plt.plot(xtest, yreal)\n",
    "plt.plot(xtest, ypred, 'o')"
   ]
  },
  {
   "cell_type": "markdown",
   "id": "23768666",
   "metadata": {},
   "source": [
    "En este punto, es interesante variar el número de neuronas en las capas ocultas del MLP (hidden_layer_sizes en paso 16)."
   ]
  }
 ],
 "metadata": {
  "kernelspec": {
   "display_name": "Python 3 (ipykernel)",
   "language": "python",
   "name": "python3"
  },
  "language_info": {
   "codemirror_mode": {
    "name": "ipython",
    "version": 3
   },
   "file_extension": ".py",
   "mimetype": "text/x-python",
   "name": "python",
   "nbconvert_exporter": "python",
   "pygments_lexer": "ipython3",
   "version": "3.12.2"
  }
 },
 "nbformat": 4,
 "nbformat_minor": 5
}
