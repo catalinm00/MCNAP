{
 "cells": [
  {
   "cell_type": "markdown",
   "id": "ace848f7-955a-4569-a13d-0109fb46a95c",
   "metadata": {},
   "source": [
    "### Regresión mediante perceptrón multicapa (MLP) de una función no lineal"
   ]
  },
  {
   "cell_type": "code",
   "execution_count": null,
   "id": "ac6c0b6e-93ac-42e5-a29b-794094f67f5d",
   "metadata": {},
   "outputs": [],
   "source": [
    "import numpy as np\n",
    "\n",
    "# Función no-lineal ReLU\n",
    "def relu(x):\n",
    "    return x * (x > 0)\n",
    "\n",
    "# Generar datos para la función no lineal\n",
    "x = np.linspace(0, 4*np.pi, 500)\n",
    "y = (x/2) - np.sin(x)\n",
    "\n",
    "# Preparar modelo MLP de regresión\n",
    "# Capas internas con 50, 50, 20 y 10 neuronas\n",
    "from sklearn.neural_network import MLPRegressor\n",
    "model = MLPRegressor(activation='relu',\n",
    "                     hidden_layer_sizes=(50, 50, 20, 10),\n",
    "                     alpha=1.0e-6,\n",
    "                     random_state=20,\n",
    "                     max_iter=500,\n",
    "                     early_stopping=False)"
   ]
  },
  {
   "cell_type": "markdown",
   "id": "68018f5d-9a1d-4dd5-96e7-7a5a13f2101d",
   "metadata": {},
   "source": [
    "### Paso 1: Entrenamiento"
   ]
  },
  {
   "cell_type": "code",
   "execution_count": null,
   "id": "f7ae5712",
   "metadata": {},
   "outputs": [],
   "source": [
    "# Ajustar modelo\n",
    "model.fit(x[:, np.newaxis], y)"
   ]
  },
  {
   "cell_type": "markdown",
   "id": "31e249a8-3ac2-44c3-9d92-6cb5e35b9f7c",
   "metadata": {},
   "source": [
    "### Paso 2: Inferencia"
   ]
  },
  {
   "cell_type": "code",
   "execution_count": null,
   "id": "92c60f31-3581-4f33-b828-afd6a4efdba3",
   "metadata": {},
   "outputs": [],
   "source": [
    "# Comprobar resultado para x = pi\n",
    "xtest = np.asarray([np.pi])\n",
    "yreal = (xtest / 2) - np.sin(xtest)"
   ]
  },
  {
   "cell_type": "code",
   "execution_count": null,
   "id": "9ad94948-9abc-4b4c-9e7c-500e72ceb4a7",
   "metadata": {},
   "outputs": [],
   "source": [
    "# Realización de una inferencia \"manualmente\"\n",
    "ypred = model.predict(xtest.reshape(-1,1))\n",
    "###\n",
    "### POR COMPLETAR\n",
    "###\n",
    "\n",
    "print(\"Estimación del modelo = \", ypred[0])\n",
    "print(\"Valor real            = \", yreal[0])"
   ]
  },
  {
   "cell_type": "code",
   "execution_count": null,
   "id": "05b4a4e6-66d4-459f-833b-c195e2b53aa0",
   "metadata": {},
   "outputs": [],
   "source": []
  }
 ],
 "metadata": {
  "kernelspec": {
   "display_name": "Python 3 (ipykernel)",
   "language": "python",
   "name": "python3"
  },
  "language_info": {
   "codemirror_mode": {
    "name": "ipython",
    "version": 3
   },
   "file_extension": ".py",
   "mimetype": "text/x-python",
   "name": "python",
   "nbconvert_exporter": "python",
   "pygments_lexer": "ipython3",
   "version": "3.9.18"
  }
 },
 "nbformat": 4,
 "nbformat_minor": 5
}
