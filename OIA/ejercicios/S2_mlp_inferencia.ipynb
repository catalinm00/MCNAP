{
 "cells": [
  {
   "cell_type": "markdown",
   "id": "d2dafcbb",
   "metadata": {},
   "source": [
    "### Inferencia básica con un perceptrón multicapa (MLP)\n",
    "\n",
    "Asumiremos un MLP con los siguientes parámetros:\n",
    "\n",
    "- La salida indica la probabilidad de que la imagen corresponda a un dígito decimal (0,1,...,9). Es decir, tenemos 10 salidas"
   ]
  },
  {
   "cell_type": "markdown",
   "id": "b7cad4f7",
   "metadata": {},
   "source": [
    "Consideraremos un MLP que recibe como entrada la imagen de un dígito decimal de 8 x 8 píxeles"
   ]
  },
  {
   "cell_type": "code",
   "execution_count": null,
   "id": "867efa81",
   "metadata": {},
   "outputs": [],
   "source": [
    "import numpy as np\n",
    "from sklearn import datasets\n",
    "import matplotlib.pyplot as plt\n",
    "\n",
    "digits = datasets.load_digits()\n",
    "image  = digits.images[4]\n",
    "print(image)\n",
    "\n",
    "plt.imshow(image, cmap=plt.cm.gray_r, interpolation=\"nearest\")"
   ]
  },
  {
   "cell_type": "markdown",
   "id": "fb7e355f",
   "metadata": {},
   "source": [
    "Cinco capas ocultas fully connected (FC), con 128, 512, 1024, 512 y 128 neuronas de \"izquierda a derecha\".\n",
    "\n",
    "Nota: Por simplicidad, y dado que solo nos interesan los aspectos computacionales como el tiempo de ejecución y no la precisión del resultado en inferencia, inicializaremos las capas con números aleatorios."
   ]
  },
  {
   "cell_type": "code",
   "execution_count": null,
   "id": "f7ae5712",
   "metadata": {},
   "outputs": [],
   "source": [
    "# Número de neuronas de las capas, incluida entrada y salida\n",
    "nn = [64, 128, 512, 1024, 512, 128, 10]\n",
    "\n",
    "# Preparar datos para la capa de entrada (8 x 8 = 64)\n",
    "xtest = image.reshape(64)\n",
    "print(xtest)\n",
    "\n",
    "# Generar datos para las capas ocultas del MLP\n",
    "W = []\n",
    "b = []\n",
    "for i in range(len(nn)-1):\n",
    "    Wtmp = np.random.rand(nn[i+1],nn[i])\n",
    "    W.append(Wtmp)\n",
    "    \n",
    "    btmp = np.random.rand(nn[i+1])\n",
    "    b.append(btmp)\n",
    "    \n",
    "# Por curiosidad, comprobamos tamaños de las capas ocultas\n",
    "for i in range(len(nn)-1):\n",
    "    print(\"Capa oculta {}: (m, n) = {}\".format(i+1, W[i].shape))"
   ]
  },
  {
   "cell_type": "code",
   "execution_count": null,
   "id": "ff6de556",
   "metadata": {},
   "outputs": [],
   "source": [
    "# Función no-lineal ReLU\n",
    "def relu(x):\n",
    "    return x * (x > 0)\n",
    "\n",
    "# ### Paso 1: Entrenamiento\n",
    "# Obviamos el ajuste\n",
    "\n",
    "# ### Paso 2: Inferencia\n",
    "# Aplicación de los cálculos correspondientes a la inferencia, \n",
    "# capa a capa\n",
    "a = xtest\n",
    "for i in range(len(nn)-1):\n",
    "    z = W[i] @ a + b[i]\n",
    "    a = relu(z)\n",
    "    print(a)\n",
    "ypred = a"
   ]
  },
  {
   "cell_type": "markdown",
   "id": "10e3b462",
   "metadata": {},
   "source": [
    "Temporizar los productos anteriores.\n",
    "Pista: Usar el módulo time de Python"
   ]
  },
  {
   "cell_type": "code",
   "execution_count": null,
   "id": "95f0885d",
   "metadata": {},
   "outputs": [],
   "source": [
    "### COMPLETAR"
   ]
  },
  {
   "cell_type": "markdown",
   "id": "1192586e",
   "metadata": {},
   "source": [
    "Calcular los GFLOPS.\n",
    "Pista: GFLOPS = Número de operaciones totales en coma flotante / (1.0e+9 * tiempo)"
   ]
  },
  {
   "cell_type": "code",
   "execution_count": null,
   "id": "40c0d66e",
   "metadata": {},
   "outputs": [],
   "source": [
    "### COMPLETAR"
   ]
  }
 ],
 "metadata": {
  "kernelspec": {
   "display_name": "Python 3 (ipykernel)",
   "language": "python",
   "name": "python3"
  },
  "language_info": {
   "codemirror_mode": {
    "name": "ipython",
    "version": 3
   },
   "file_extension": ".py",
   "mimetype": "text/x-python",
   "name": "python",
   "nbconvert_exporter": "python",
   "pygments_lexer": "ipython3",
   "version": "3.13.1"
  }
 },
 "nbformat": 4,
 "nbformat_minor": 5
}
