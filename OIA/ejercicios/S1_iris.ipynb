{
 "cells": [
  {
   "cell_type": "markdown",
   "id": "7d349ecf",
   "metadata": {},
   "source": [
    "### Clasificación KNN y flores de iris\n",
    "\n",
    "Ejercicio adaptado del tutorial sobre scikit-learn de Jake VanderPlas https://github.com/jakevdp/sklearn_tutorial"
   ]
  },
  {
   "cell_type": "code",
   "execution_count": null,
   "id": "393e72a7",
   "metadata": {},
   "outputs": [],
   "source": [
    "# Importaciones\n",
    "from IPython.display import Image, display\n",
    "from sklearn import neighbors, datasets\n",
    "import matplotlib.pyplot as plt\n",
    "import numpy as np\n",
    "from google.colab import drive\n",
    "drive.mount('/content/drive')"
   ]
  },
  {
   "cell_type": "code",
   "execution_count": null,
   "id": "aece722e",
   "metadata": {},
   "outputs": [],
   "source": [
    "# Mostrar la imagen de la variedad Setosa de la flor de iris\n",
    "image_setosa = '/content/drive/My Drive/OIA-MasterHPC/Ejercicios/S1_lab/images/iris_setosa.jpg'\n",
    "\n",
    "display(Image(filename=image_setosa))"
   ]
  },
  {
   "cell_type": "code",
   "execution_count": null,
   "id": "8ce79e8e",
   "metadata": {},
   "outputs": [],
   "source": [
    "# Inspeccionar muestras de flores\n",
    "from sklearn.datasets import load_iris\n",
    "iris = load_iris()\n",
    "iris.keys()"
   ]
  },
  {
   "cell_type": "code",
   "execution_count": null,
   "id": "21e3ebc7",
   "metadata": {},
   "outputs": [],
   "source": [
    "# ¿Cuántas muestras? ¿Qué datos para cada muestra?\n",
    "n_samples, n_features = iris.data.shape\n",
    "print((n_samples, n_features))\n",
    "print(iris.data[0])"
   ]
  },
  {
   "cell_type": "code",
   "execution_count": null,
   "id": "c0bee4b7",
   "metadata": {},
   "outputs": [],
   "source": [
    "# ¿A qué variedad pertenece cada muestra?\n",
    "print(iris.target)\n",
    "print(iris.target_names)"
   ]
  },
  {
   "cell_type": "code",
   "execution_count": null,
   "id": "cdec0d49",
   "metadata": {},
   "outputs": [],
   "source": [
    "# Correlación datos\n",
    "x_index = 0\n",
    "y_index = 1\n",
    "\n",
    "formatter = plt.FuncFormatter(lambda i, *args: iris.target_names[int(i)])\n",
    "\n",
    "plt.scatter(iris.data[:, x_index], iris.data[:, y_index],\n",
    "            c=iris.target, cmap=plt.get_cmap('RdYlBu', 3))\n",
    "plt.colorbar(ticks=[0, 1, 2], format=formatter)\n",
    "plt.clim(-0.5, 2.5)\n",
    "plt.xlabel(iris.feature_names[x_index])\n",
    "plt.ylabel(iris.feature_names[y_index])"
   ]
  },
  {
   "cell_type": "markdown",
   "id": "abc0983b",
   "metadata": {},
   "source": [
    "En este punto, es interesante correlacionar distintas propiedades de las muestras de flores (x_index, y_index), para intentar descubrir alguna característica clave."
   ]
  },
  {
   "cell_type": "markdown",
   "id": "1ba727e4",
   "metadata": {},
   "source": [
    "#### Paso 0: Escoger tipo de modelo: KNN"
   ]
  },
  {
   "cell_type": "code",
   "execution_count": null,
   "id": "e3b8e3bf",
   "metadata": {},
   "outputs": [],
   "source": [
    "# Crear el modelo\n",
    "knn = neighbors.KNeighborsClassifier(n_neighbors=5)"
   ]
  },
  {
   "cell_type": "markdown",
   "id": "5e4bf5d8",
   "metadata": {},
   "source": [
    "#### Paso 1: Entrenamiento"
   ]
  },
  {
   "cell_type": "code",
   "execution_count": null,
   "id": "255b3326",
   "metadata": {},
   "outputs": [],
   "source": [
    "# Ajustar el modelo a los datos (\"entrenar\")\n",
    "knn.fit(iris.data, iris.target)"
   ]
  },
  {
   "cell_type": "markdown",
   "id": "5e3907db",
   "metadata": {},
   "source": [
    "#### Paso 2: Inferencia"
   ]
  },
  {
   "cell_type": "code",
   "execution_count": null,
   "id": "5dd69d89",
   "metadata": {},
   "outputs": [],
   "source": [
    "# Realizar una predicción (\"inferencia\")\n",
    "result = knn.predict([[3, 5, 4, 2],])\n",
    "print(iris.target_names[result])"
   ]
  },
  {
   "cell_type": "code",
   "execution_count": null,
   "id": "0987e488-58a1-4ed8-bee9-210db9ddb04f",
   "metadata": {},
   "outputs": [],
   "source": []
  }
 ],
 "metadata": {
  "kernelspec": {
   "display_name": "Python 3 (ipykernel)",
   "language": "python",
   "name": "python3"
  },
  "language_info": {
   "codemirror_mode": {
    "name": "ipython",
    "version": 3
   },
   "file_extension": ".py",
   "mimetype": "text/x-python",
   "name": "python",
   "nbconvert_exporter": "python",
   "pygments_lexer": "ipython3",
   "version": "3.9.18"
  }
 },
 "nbformat": 4,
 "nbformat_minor": 5
}
