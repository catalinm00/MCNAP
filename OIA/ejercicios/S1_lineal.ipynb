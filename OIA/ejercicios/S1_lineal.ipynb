{
 "cells": [
  {
   "cell_type": "markdown",
   "id": "d2dafcbb",
   "metadata": {},
   "source": [
    "### Regresión lineal con una función cuasi-lineal"
   ]
  },
  {
   "cell_type": "code",
   "execution_count": null,
   "id": "f7ae5712",
   "metadata": {},
   "outputs": [],
   "source": [
    "# Importaciones\n",
    "import numpy as np\n",
    "import matplotlib.pyplot as plt"
   ]
  },
  {
   "cell_type": "code",
   "execution_count": null,
   "id": "705d4f4d",
   "metadata": {},
   "outputs": [],
   "source": [
    "# Generar datos para la función cuasi-lineal\n",
    "x = np.arange(10)\n",
    "noise = (np.random.rand(10) - 0.5) * 1.4\n",
    "y = 2 * x + 1 + noise\n",
    "\n",
    "print(x)\n",
    "print(noise)\n",
    "print(y)\n",
    "plt.plot(x, y, 'o')"
   ]
  },
  {
   "cell_type": "markdown",
   "id": "c30bf2ea",
   "metadata": {},
   "source": [
    "#### Paso 0: Escoger tipo de modelo: Regresión lineal"
   ]
  },
  {
   "cell_type": "code",
   "execution_count": null,
   "id": "3aa96913",
   "metadata": {},
   "outputs": [],
   "source": [
    "# Preparar modelo de regresión lineal\n",
    "from sklearn.linear_model import LinearRegression\n",
    "model = LinearRegression()\n",
    "print(model)"
   ]
  },
  {
   "cell_type": "markdown",
   "id": "b4f7fc4a",
   "metadata": {},
   "source": [
    "#### Paso 1: Entrenamiento"
   ]
  },
  {
   "cell_type": "code",
   "execution_count": null,
   "id": "b11dbf56",
   "metadata": {},
   "outputs": [],
   "source": [
    "# Ajustar modelo\n",
    "model.fit(x[:, np.newaxis], y)"
   ]
  },
  {
   "cell_type": "code",
   "execution_count": null,
   "id": "d03e049e",
   "metadata": {},
   "outputs": [],
   "source": [
    "# Comprobar resultado: Aproximadamente, la pendiente (coeficiente) \n",
    "# debería ser 2 y la intersección debería ser 1\n",
    "print(model.coef_)\n",
    "print(model.intercept_)"
   ]
  },
  {
   "cell_type": "markdown",
   "id": "bcd2b421",
   "metadata": {},
   "source": [
    "#### Paso 2: Inferencia"
   ]
  },
  {
   "cell_type": "code",
   "execution_count": null,
   "id": "efde42f0",
   "metadata": {},
   "outputs": [],
   "source": [
    "xtest = np.linspace(0,10,1000)\n",
    "beta  = model.coef_[0]\n",
    "alpha = model.intercept_\n",
    "ypred = alpha + beta * xtest\n",
    "\n",
    "# Visualizar el ajuste\n",
    "plt.plot(x, y, 'o')\n",
    "plt.plot(xtest, ypred)"
   ]
  },
  {
   "cell_type": "markdown",
   "id": "f2ae233d",
   "metadata": {},
   "source": [
    "En este punto, es interesante variar el nivel de ruido en las muestras (noise justo antes del paso 0)."
   ]
  },
  {
   "cell_type": "markdown",
   "id": "a0c13087",
   "metadata": {},
   "source": [
    "Pregunta: ¿Qué pasará si intentamos ajustar por regresión lineal una función como y = (x/2) - np.sin(x)?"
   ]
  }
 ],
 "metadata": {
  "kernelspec": {
   "display_name": "Python 3 (ipykernel)",
   "language": "python",
   "name": "python3"
  },
  "language_info": {
   "codemirror_mode": {
    "name": "ipython",
    "version": 3
   },
   "file_extension": ".py",
   "mimetype": "text/x-python",
   "name": "python",
   "nbconvert_exporter": "python",
   "pygments_lexer": "ipython3",
   "version": "3.9.18"
  }
 },
 "nbformat": 4,
 "nbformat_minor": 5
}
